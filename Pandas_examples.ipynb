{
 "cells": [
  {
   "cell_type": "code",
   "execution_count": 1,
   "metadata": {},
   "outputs": [
    {
     "name": "stdout",
     "output_type": "stream",
     "text": [
      "   0  1  2\n",
      "0  1  2  3\n",
      "1  2  4  5\n",
      "2  5  6  7\n"
     ]
    }
   ],
   "source": [
    "#pandas library\n",
    "import pandas as pd\n",
    "\n",
    "a_df = pd.DataFrame([[1,2,3],[2,4,5],[5,6,7]])\n",
    "print(a_df)"
   ]
  },
  {
   "cell_type": "code",
   "execution_count": 2,
   "metadata": {},
   "outputs": [
    {
     "name": "stdout",
     "output_type": "stream",
     "text": [
      "          0         1         2\n",
      "0  0.555603  0.007755  0.140987\n",
      "1  0.944870  0.729915  0.058183\n",
      "2  0.421080  0.975252  0.239345\n"
     ]
    }
   ],
   "source": [
    "import numpy as np\n",
    "b_df = pd.DataFrame(np.random.random((3,3)))\n",
    "print(b_df)"
   ]
  },
  {
   "cell_type": "code",
   "execution_count": 3,
   "metadata": {},
   "outputs": [
    {
     "name": "stdout",
     "output_type": "stream",
     "text": [
      "a    rns\n",
      "b    rkr\n",
      "c    rrb\n",
      "dtype: object\n"
     ]
    }
   ],
   "source": [
    "#in pandas we have Series, DataFrame and ...types of data structures\n",
    "dic = {\"a\":\"rns\",\"b\":\"rkr\",\"c\":\"rrb\"}\n",
    "series_panda = pd.Series(dic)\n",
    "print(series_panda)"
   ]
  },
  {
   "cell_type": "code",
   "execution_count": 4,
   "metadata": {},
   "outputs": [
    {
     "name": "stdout",
     "output_type": "stream",
     "text": [
      "name    [rkr, rnr, rrb]\n",
      "age        [28, 26, 59]\n",
      "dtype: object\n",
      "      name  age\n",
      "rank1  rkr   28\n",
      "rank2  rnr   26\n",
      "rank3  rrb   59\n"
     ]
    }
   ],
   "source": [
    "info = {'name':['rkr', 'rnr', 'rrb'], 'age':[28, 26, 59]}\n",
    "pandas_series_info = pd.Series(info)\n",
    "pandas_df_info = pd.DataFrame(info, index=['rank1','rank2','rank3'])\n",
    "\n",
    "#pandas_df_info_2 = pd.DataFrame(info, index=['rank1','rank2','rank3'], columns=['NAME','AGE']) #doesn't work\n",
    "\n",
    "print(pandas_series_info)\n",
    "print(pandas_df_info)\n",
    "\n",
    "#print(pandas_df_info_2)"
   ]
  },
  {
   "cell_type": "code",
   "execution_count": 5,
   "metadata": {},
   "outputs": [
    {
     "name": "stdout",
     "output_type": "stream",
     "text": [
      "name    rkr\n",
      "age      28\n",
      "Name: rank1, dtype: object\n",
      "\n",
      " name    rnr\n",
      "age      26\n",
      "Name: rank2, dtype: object\n",
      "\n",
      "       name  age\n",
      "rank1  rkr   28\n",
      "rank2  rnr   26\n",
      "\n",
      " rank1    28\n",
      "rank2    26\n",
      "rank3    59\n",
      "Name: age, dtype: int64\n"
     ]
    }
   ],
   "source": [
    "#accessing pandas data using loc and iloc indexes\n",
    "print(pandas_df_info.loc['rank1'])\n",
    "print(\"\\n\",pandas_df_info.iloc[1])\n",
    "print(\"\\n\",pandas_df_info[0:2])\n",
    "\n",
    "print(\"\\n\",pandas_df_info[:]['age'])"
   ]
  },
  {
   "cell_type": "code",
   "execution_count": 6,
   "metadata": {},
   "outputs": [
    {
     "name": "stdout",
     "output_type": "stream",
     "text": [
      "      name  age  added\n",
      "rank1  rkr   28     38\n",
      "rank2  rnr   26     36\n",
      "rank3  rrb   59     69\n",
      "      name  age\n",
      "rank1  rkr   28\n",
      "rank2  rnr   26\n",
      "rank3  rrb   59\n"
     ]
    }
   ],
   "source": [
    "#appending a column and pop it.....\n",
    "pandas_df_info[\"added\"]= 10 +pandas_df_info[\"age\"]\n",
    "print(pandas_df_info)\n",
    "\n",
    "pandas_df_info.pop('added')   # pop() for column and drop() for rows\n",
    "print(pandas_df_info)"
   ]
  },
  {
   "cell_type": "code",
   "execution_count": 14,
   "metadata": {},
   "outputs": [
    {
     "name": "stdout",
     "output_type": "stream",
     "text": [
      "      name  age\n",
      "rank4  rss   70\n",
      "      name  age\n",
      "rank1  rkr   28\n",
      "rank2  rnr   26\n",
      "rank3  rrb   59\n",
      "rank5  rss   70\n",
      "rank4  rss   70\n"
     ]
    }
   ],
   "source": [
    "#appending a row and drop it...\n",
    "app_dic = {'name':'rss','age':70}\n",
    "app_df = pd.DataFrame(app_dic, index=['rank4'])  #index =[row naming], column=[column naming]\n",
    "pandas_df_info=pandas_df_info.append(app_df)\n",
    "print(app_df)\n",
    "print(pandas_df_info)"
   ]
  },
  {
   "cell_type": "code",
   "execution_count": 18,
   "metadata": {},
   "outputs": [
    {
     "name": "stdout",
     "output_type": "stream",
     "text": [
      "      name  age\n",
      "rank1  rkr   28\n",
      "rank2  rnr   26\n",
      "rank3  rrb   59\n",
      "rank4  rss   70\n"
     ]
    }
   ],
   "source": [
    "pandas_df_info=pandas_df_info.drop(index=['rank5']) # (or just) pandas_df_info.drop('rank5')\n",
    "print(pandas_df_info)"
   ]
  },
  {
   "cell_type": "code",
   "execution_count": 23,
   "metadata": {},
   "outputs": [],
   "source": [
    "# pandas PANEL::: 3D container\n",
    "\n",
    "#d = np.random.random((4,5))\n",
    "#dframe = pd.Panel(d)\n",
    "#print(\"panel details are: \\n\")\n",
    "#print(dframe)\n",
    "#--------------------------------------------------------------------------------------------------------------------\n",
    "#o/p\n",
    "#C:\\Users\\Admin\\anaconda3\\lib\\site-packages\\ipykernel_launcher.py:3: FutureWarning: The Panel class is removed from pandas. Accessing it from the top-level namespace will also be removed in the next version\n",
    "#  This is separate from the ipykernel package so we can avoid doing imports until\n",
    "#----------------------------------------------------------------------------------------------------------------------"
   ]
  },
  {
   "cell_type": "code",
   "execution_count": 27,
   "metadata": {},
   "outputs": [
    {
     "name": "stdout",
     "output_type": "stream",
     "text": [
      "Head \n",
      "       name  age\n",
      "rank1  rkr   28\n",
      "rank2  rnr   26 \n",
      "\n",
      "Tail \n",
      "       name  age\n",
      "rank4  rss   70\n"
     ]
    }
   ],
   "source": [
    "print(\"Head \\n\",pandas_df_info.head(2),\"\\n\")           # customised top and botom display\n",
    "print(\"Tail \\n\",pandas_df_info.tail(1))"
   ]
  },
  {
   "cell_type": "code",
   "execution_count": 31,
   "metadata": {},
   "outputs": [
    {
     "name": "stdout",
     "output_type": "stream",
     "text": [
      "     rank1 rank2 rank3 rank4\n",
      "name   rkr   rnr   rrb   rss\n",
      "age     28    26    59    70\n",
      "\n",
      " Total number of elements in pandas: 8\n"
     ]
    }
   ],
   "source": [
    "#Transpose, size\n",
    "print(pandas_df_info.T)\n",
    "print(\"\\n Total number of elements in pandas:\",pandas_df_info.size)"
   ]
  },
  {
   "cell_type": "code",
   "execution_count": 36,
   "metadata": {},
   "outputs": [
    {
     "name": "stdout",
     "output_type": "stream",
     "text": [
      "name    rkrrnrrrbrss\n",
      "age              183\n",
      "dtype: object\n",
      "rank1    28\n",
      "rank2    26\n",
      "rank3    59\n",
      "rank4    70\n",
      "dtype: int64\n"
     ]
    }
   ],
   "source": [
    "print(pandas_df_info.sum(axis=0)) #sum of all rows\n",
    "print(pandas_df_info.sum(axis=1))  #sum of all columns and similarly mean(), std(), median()...."
   ]
  },
  {
   "cell_type": "code",
   "execution_count": 37,
   "metadata": {},
   "outputs": [
    {
     "data": {
      "text/html": [
       "<div>\n",
       "<style scoped>\n",
       "    .dataframe tbody tr th:only-of-type {\n",
       "        vertical-align: middle;\n",
       "    }\n",
       "\n",
       "    .dataframe tbody tr th {\n",
       "        vertical-align: top;\n",
       "    }\n",
       "\n",
       "    .dataframe thead th {\n",
       "        text-align: right;\n",
       "    }\n",
       "</style>\n",
       "<table border=\"1\" class=\"dataframe\">\n",
       "  <thead>\n",
       "    <tr style=\"text-align: right;\">\n",
       "      <th></th>\n",
       "      <th>age</th>\n",
       "    </tr>\n",
       "  </thead>\n",
       "  <tbody>\n",
       "    <tr>\n",
       "      <th>count</th>\n",
       "      <td>4.00000</td>\n",
       "    </tr>\n",
       "    <tr>\n",
       "      <th>mean</th>\n",
       "      <td>45.75000</td>\n",
       "    </tr>\n",
       "    <tr>\n",
       "      <th>std</th>\n",
       "      <td>22.12653</td>\n",
       "    </tr>\n",
       "    <tr>\n",
       "      <th>min</th>\n",
       "      <td>26.00000</td>\n",
       "    </tr>\n",
       "    <tr>\n",
       "      <th>25%</th>\n",
       "      <td>27.50000</td>\n",
       "    </tr>\n",
       "    <tr>\n",
       "      <th>50%</th>\n",
       "      <td>43.50000</td>\n",
       "    </tr>\n",
       "    <tr>\n",
       "      <th>75%</th>\n",
       "      <td>61.75000</td>\n",
       "    </tr>\n",
       "    <tr>\n",
       "      <th>max</th>\n",
       "      <td>70.00000</td>\n",
       "    </tr>\n",
       "  </tbody>\n",
       "</table>\n",
       "</div>"
      ],
      "text/plain": [
       "            age\n",
       "count   4.00000\n",
       "mean   45.75000\n",
       "std    22.12653\n",
       "min    26.00000\n",
       "25%    27.50000\n",
       "50%    43.50000\n",
       "75%    61.75000\n",
       "max    70.00000"
      ]
     },
     "execution_count": 37,
     "metadata": {},
     "output_type": "execute_result"
    }
   ],
   "source": [
    "pandas_df_info.describe()"
   ]
  },
  {
   "cell_type": "code",
   "execution_count": null,
   "metadata": {},
   "outputs": [],
   "source": []
  }
 ],
 "metadata": {
  "kernelspec": {
   "display_name": "Python 3",
   "language": "python",
   "name": "python3"
  },
  "language_info": {
   "codemirror_mode": {
    "name": "ipython",
    "version": 3
   },
   "file_extension": ".py",
   "mimetype": "text/x-python",
   "name": "python",
   "nbconvert_exporter": "python",
   "pygments_lexer": "ipython3",
   "version": "3.7.7"
  }
 },
 "nbformat": 4,
 "nbformat_minor": 4
}
