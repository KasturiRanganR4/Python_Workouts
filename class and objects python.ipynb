{
 "cells": [
  {
   "cell_type": "code",
   "execution_count": 12,
   "metadata": {},
   "outputs": [],
   "source": [
    "#class and objects examples....\n",
    "class base:\n",
    "    def __init__(self, name, age, gender, luckynum):\n",
    "        self.name = name\n",
    "        self.age = age\n",
    "        self.gender = gender\n",
    "        self.luckynum = luckynum\n",
    "    def details(self):\n",
    "        print(\"My details are....'\\n'\")\n",
    "        print(self.name, '\\n', self.age, '\\n', self.gender, '\\n', self.luckynum)\n",
    "    def particular_name(self):  #functions or behaviours....\n",
    "        return self.name\n",
    "        \n",
    "        "
   ]
  },
  {
   "cell_type": "code",
   "execution_count": 13,
   "metadata": {},
   "outputs": [
    {
     "name": "stdout",
     "output_type": "stream",
     "text": [
      "My details are....'\n",
      "'\n",
      "rkr \n",
      " 26 \n",
      " male \n",
      " 7\n",
      "My details are....'\n",
      "'\n",
      "rns \n",
      " 24 \n",
      " male \n",
      " 8\n"
     ]
    },
    {
     "data": {
      "text/plain": [
       "'rkr'"
      ]
     },
     "execution_count": 13,
     "metadata": {},
     "output_type": "execute_result"
    }
   ],
   "source": [
    "person1=base(\"rkr\", 26, \"male\", 7)\n",
    "person2=base(\"rns\", 24, \"male\", 8)\n",
    "\n",
    "person1.details()\n",
    "person2.details()\n",
    "person1.particular_name()"
   ]
  },
  {
   "cell_type": "code",
   "execution_count": 46,
   "metadata": {},
   "outputs": [
    {
     "name": "stdout",
     "output_type": "stream",
     "text": [
      "[1, 2, 3, 'rkr']\n",
      "rns\n",
      "(8,)\n",
      "#1 : Intel\n",
      "#2 : HCL\n",
      "#3 : sjce\n",
      "#4 : ACL\n",
      "#5 : vvce\n",
      "\n",
      " rkr\n",
      "[1, 2, 3]\n",
      "[2, 3]\n",
      "appended rns in list\n",
      "\n",
      " rrb\n",
      "changed name\n",
      "rkr\n",
      "n|a\n",
      "N|A tam\n",
      "\n",
      " [5, 10, 15, 'rkrrkrrkrrkrrkr', 'appended rns in listappended rns in listappended rns in listappended rns in listappended rns in list']\n",
      "india\n"
     ]
    }
   ],
   "source": [
    "#list, dictionary, tuple examples...\n",
    "l=[1,2,3,'rkr']\n",
    "d={1:'rkr',2:'rns',3:'tam'}\n",
    "t=(9,'india',8)\n",
    "s={'sjce','vvce','Intel','ACL'}\n",
    "\n",
    "print(l[ : ])\n",
    "print(d[2])\n",
    "print(t[2:])\n",
    "#print(s[:]) #set is an unorder collection of items hence its error\n",
    "\n",
    "\n",
    "#set is an unorder collection of items.....\n",
    "s.add('HCL')\n",
    "for indx,names in enumerate(s):\n",
    "    print('#%d : %s' % (indx+1,names))\n",
    "\n",
    "\n",
    "\n",
    "#list....\n",
    "print(\"\\n\",l[-1])\n",
    "print(l[:-1])\n",
    "print(l[1:-1])\n",
    "l.append('appended rns in list')\n",
    "print(l[-1])\n",
    "\n",
    "#dictionaries........\n",
    "d[2]='rrb'\n",
    "print(\"\\n\",d[2])\n",
    "if d[2]=='rrb':\n",
    "    print(\"changed name\")\n",
    "print(d.get(1,'N|A'))\n",
    "print(d.get(4,'n|a'))\n",
    "del d[2]\n",
    "print(d.get(2,'N|A'),d[3])\n",
    "\n",
    "#inline multiple commands...........\n",
    "q=[i*5 for i in l if l[0]==1]\n",
    "print(\"\\n\",q)\n",
    "\n",
    "#tuples.......\n",
    "#t[1]='India' ...we willl get error as tuples are unchanged\n",
    "print(t[1])"
   ]
  },
  {
   "cell_type": "code",
   "execution_count": 4,
   "metadata": {},
   "outputs": [
    {
     "name": "stdout",
     "output_type": "stream",
     "text": [
      "sjce completed 10 years.\n"
     ]
    }
   ],
   "source": [
    "#string and values representations in print statement\n",
    "a=10\n",
    "b=\"sjce\"\n",
    "print( \"%s completed %d years.\" % (b,a))"
   ]
  },
  {
   "cell_type": "code",
   "execution_count": 2,
   "metadata": {},
   "outputs": [
    {
     "name": "stdout",
     "output_type": "stream",
     "text": [
      "4.5\n",
      "4.5\n"
     ]
    }
   ],
   "source": [
    "#magical methods...add method checking\n",
    "x=2\n",
    "y=2.5\n",
    "print(x+y)\n",
    "# print(y+x) no change"
   ]
  },
  {
   "cell_type": "code",
   "execution_count": 14,
   "metadata": {},
   "outputs": [
    {
     "name": "stdout",
     "output_type": "stream",
     "text": [
      "minnu 1995\n",
      "chinuu 2000\n",
      "minnuchinuu\n",
      "2000\n",
      "20\n"
     ]
    }
   ],
   "source": [
    "#operator overloading __add__\n",
    "\n",
    "class Cat:\n",
    "    def __init__(self, name, age):\n",
    "        self.name=name\n",
    "        self.age=age\n",
    "    def name_info(self):\n",
    "        return self.name\n",
    "    def YOB(self):\n",
    "        return (2020-self.age)\n",
    "    def __add__(self,othercat):\n",
    "        return Cat(self.name+othercat.name, (self.age+othercat.age)-25)\n",
    "    \n",
    "def main():\n",
    "    cat1=Cat(\"minnu\", 25)\n",
    "    cat2=Cat(\"chinuu\", 20)\n",
    "    print(cat1.name_info(), cat1.YOB())\n",
    "    print(cat2.name_info(), cat2.YOB())\n",
    "    babycat = cat1+cat2                     #overloading both objects on + symbol\n",
    "    print(babycat.name_info())\n",
    "    print(babycat.YOB())\n",
    "    print(babycat.age)\n",
    "    \n",
    "if __name__ == \"__main__\":\n",
    "    main()"
   ]
  },
  {
   "cell_type": "code",
   "execution_count": 6,
   "metadata": {},
   "outputs": [
    {
     "name": "stdin",
     "output_type": "stream",
     "text": [
      "Please enter the value for user1:  12\n",
      "please enter the value for user2:  2\n",
      "please enter your name:  rkr\n"
     ]
    },
    {
     "name": "stdout",
     "output_type": "stream",
     "text": [
      "3.4641016151377544\n",
      "Sum of 2 numbers is: 3\n"
     ]
    }
   ],
   "source": [
    "#input the values for the user using input command\n",
    "import numpy as np\n",
    "user_input = int(input(\"Please enter the value for user1: \"))\n",
    "user_input2 = int(input(\"please enter the value for user2: \"))\n",
    "print(np.sqrt(user_input))\n",
    "print(\"Sum of %d numbers is: %d\" % (user_input2, (user_input2*(user_input2+1)/2)))"
   ]
  },
  {
   "cell_type": "code",
   "execution_count": 9,
   "metadata": {},
   "outputs": [
    {
     "name": "stdin",
     "output_type": "stream",
     "text": [
      "please enter your name:  kasturi\n"
     ]
    },
    {
     "name": "stdout",
     "output_type": "stream",
     "text": [
      "kasturi\n"
     ]
    },
    {
     "name": "stdin",
     "output_type": "stream",
     "text": [
      "please enter anything :  4.5 earthquake\n"
     ]
    },
    {
     "name": "stdout",
     "output_type": "stream",
     "text": [
      "4.5 earthquake\n"
     ]
    }
   ],
   "source": [
    "name = str(input(\"please enter your name: \")) #string input\n",
    "print(name)\n",
    "anything = input(\"please enter anything : \")  #any datatype as input\n",
    "print(anything)"
   ]
  },
  {
   "cell_type": "code",
   "execution_count": null,
   "metadata": {},
   "outputs": [],
   "source": []
  }
 ],
 "metadata": {
  "kernelspec": {
   "display_name": "Python 3",
   "language": "python",
   "name": "python3"
  },
  "language_info": {
   "codemirror_mode": {
    "name": "ipython",
    "version": 3
   },
   "file_extension": ".py",
   "mimetype": "text/x-python",
   "name": "python",
   "nbconvert_exporter": "python",
   "pygments_lexer": "ipython3",
   "version": "3.7.7"
  }
 },
 "nbformat": 4,
 "nbformat_minor": 4
}
