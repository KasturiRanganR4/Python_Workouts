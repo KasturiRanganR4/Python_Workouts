{
 "cells": [
  {
   "cell_type": "code",
   "execution_count": 4,
   "metadata": {},
   "outputs": [],
   "source": [
    "#numpy library usages...\n",
    "import numpy as np"
   ]
  },
  {
   "cell_type": "code",
   "execution_count": 15,
   "metadata": {},
   "outputs": [],
   "source": [
    "'''\n",
    "# its is a 3X3 matrix...[1 2 3]\n",
    "                        [2 3 4]\n",
    "                        [5 6 7]\n",
    "'''                        \n",
    "r = np.array([[1,2,3], [2,3,4], [5,6,7]])\n"
   ]
  },
  {
   "cell_type": "code",
   "execution_count": 16,
   "metadata": {},
   "outputs": [
    {
     "name": "stdout",
     "output_type": "stream",
     "text": [
      "[[0. 0. 0.]\n",
      " [0. 0. 0.]]\n",
      "[[1. 1. 1.]\n",
      " [1. 1. 1.]]\n",
      "[[0.3481659  0.81252592 0.37377357]\n",
      " [0.18291065 0.36011814 0.47677867]]\n",
      "[[7 7 7]\n",
      " [7 7 7]]\n",
      "[[1. 0. 0.]\n",
      " [0. 1. 0.]\n",
      " [0. 0. 1.]]\n"
     ]
    }
   ],
   "source": [
    "#creation of differernt types of np array matrix\n",
    "print(np.zeros((2,3)))\n",
    "print(np.ones((2,3)))\n",
    "print(np.random.random((2,3)))\n",
    "print(np.full((2,3), 7))\n",
    "print(np.eye(3))"
   ]
  },
  {
   "cell_type": "code",
   "execution_count": 17,
   "metadata": {},
   "outputs": [
    {
     "name": "stdout",
     "output_type": "stream",
     "text": [
      "[2 6]\n",
      "[2 6]\n"
     ]
    }
   ],
   "source": [
    "print(np.array([r[0,1],r[2,1]])) # 0 row 1 column and 2 row 1 column....\n",
    "print(r[[0,2], [1,1]])           # it can be done by this too...all rows one set and column one set"
   ]
  },
  {
   "cell_type": "code",
   "execution_count": 18,
   "metadata": {},
   "outputs": [
    {
     "name": "stdout",
     "output_type": "stream",
     "text": [
      "[1 3 7]\n",
      "[[11  2  3]\n",
      " [ 2 13  4]\n",
      " [ 5  6 17]]\n"
     ]
    }
   ],
   "source": [
    "#indexing  np.arrange()\n",
    "index = np.array([0,1,2])\n",
    "print(r[np.arange(3), index])\n",
    "r[np.arange(3), index] += 10   #observe += operator....only + wont work in adding 10 to all elements in matrix\n",
    "print(r)"
   ]
  },
  {
   "cell_type": "code",
   "execution_count": 20,
   "metadata": {},
   "outputs": [
    {
     "name": "stdout",
     "output_type": "stream",
     "text": [
      "[11  3 13  4  5  6 17]\n"
     ]
    }
   ],
   "source": [
    "#condition based segregation\n",
    "print(r[r>2])        # it prints all values in matrix greater than 2...."
   ]
  },
  {
   "cell_type": "code",
   "execution_count": 23,
   "metadata": {},
   "outputs": [
    {
     "name": "stdout",
     "output_type": "stream",
     "text": [
      "[[13  5  7]\n",
      " [ 4 18 10]\n",
      " [ 6 12 20]]\n",
      "[[5.5        0.66666667 0.75      ]\n",
      " [1.         2.6        0.66666667]\n",
      " [5.         1.         5.66666667]]\n",
      "[[1.41421356 1.73205081 2.        ]\n",
      " [1.41421356 2.23606798 2.44948974]\n",
      " [1.         2.44948974 1.73205081]]\n"
     ]
    }
   ],
   "source": [
    "#operations on np array matrix at \"element wise\" .....\n",
    "s = np.array([[2,3,4],[2,5,6],[1,6,3]])\n",
    "print(r+s)\n",
    "print(r/s)   \n",
    "print(np.sqrt(s)) \n",
    "#produces sqrts of each element\n",
    "#applicable to - and * too..........."
   ]
  },
  {
   "cell_type": "code",
   "execution_count": 24,
   "metadata": {},
   "outputs": [
    {
     "name": "stdout",
     "output_type": "stream",
     "text": [
      "[[ 29  61  65]\n",
      " [ 34  95  98]\n",
      " [ 39 147 107]]\n"
     ]
    }
   ],
   "source": [
    "#matrix multiplication or dot product of vectors..\n",
    "print(np.dot(r,s))"
   ]
  },
  {
   "cell_type": "code",
   "execution_count": 25,
   "metadata": {},
   "outputs": [
    {
     "name": "stdout",
     "output_type": "stream",
     "text": [
      "[ 5 14 13]\n",
      "[ 9 13 10]\n"
     ]
    }
   ],
   "source": [
    "#sumof elements.... axis 0 = columns sum 1 = rows sum\n",
    "print(np.sum(s, axis=0))\n",
    "print(np.sum(s, axis=1))"
   ]
  },
  {
   "cell_type": "code",
   "execution_count": 26,
   "metadata": {},
   "outputs": [
    {
     "name": "stdout",
     "output_type": "stream",
     "text": [
      "[[ 2  3  4]\n",
      " [ 2 12  6]\n",
      " [ 1  6  3]]\n"
     ]
    }
   ],
   "source": [
    "#specific element respective row and column\n",
    "s[1,1]=12\n",
    "print(s)"
   ]
  },
  {
   "cell_type": "code",
   "execution_count": 2,
   "metadata": {},
   "outputs": [
    {
     "name": "stdout",
     "output_type": "stream",
     "text": [
      "[1, 4, 9, 16, 25, 36, 49, 64, 81, 100]\n"
     ]
    }
   ],
   "source": [
    "# squares in list\n",
    "list = []\n",
    "for i in range(1,11):\n",
    "    list = list+[i**2]          #here + indicates appending values to list...\n",
    "    \n",
    "print(list)"
   ]
  },
  {
   "cell_type": "code",
   "execution_count": 9,
   "metadata": {},
   "outputs": [
    {
     "name": "stdout",
     "output_type": "stream",
     "text": [
      "[[1 2 3]\n",
      " [1 2 3]\n",
      " [1 2 3]]\n"
     ]
    }
   ],
   "source": [
    "#Broadcasting....  To make operations on matrices with smaller one by scaleing\n",
    "z = np.array([[1,2,3], [2,3,4], [7,8,9]])\n",
    "x = np.array([1,2,3])\n",
    "# I need to get multiples of this array to form matrix\n",
    "e = np.tile(x, (3,1))  #4 times \n",
    "print(e)"
   ]
  },
  {
   "cell_type": "code",
   "execution_count": 11,
   "metadata": {},
   "outputs": [
    {
     "name": "stdout",
     "output_type": "stream",
     "text": [
      "[[ 2  4  6]\n",
      " [ 3  5  7]\n",
      " [ 8 10 12]]\n"
     ]
    }
   ],
   "source": [
    "zz = z+e\n",
    "print(zz)"
   ]
  },
  {
   "cell_type": "code",
   "execution_count": 36,
   "metadata": {},
   "outputs": [
    {
     "data": {
      "text/plain": [
       "<matplotlib.image.AxesImage at 0xb3fbf48>"
      ]
     },
     "execution_count": 36,
     "metadata": {},
     "output_type": "execute_result"
    },
    {
     "data": {
      "image/png": "[encoded data removed]",
      "text/plain": [
       "<Figure size 432x288 with 1 Axes>"
      ]
     },
     "metadata": {
      "needs_background": "light"
     },
     "output_type": "display_data"
    }
   ],
   "source": [
    "from matplotlib import pyplot as plt\n",
    "import matplotlib.image as mimg\n",
    "plt.imshow(mimg.imread('logo.jpg'))"
   ]
  },
  {
   "cell_type": "code",
   "execution_count": null,
   "metadata": {},
   "outputs": [],
   "source": []
  }
 ],
 "metadata": {
  "kernelspec": {
   "display_name": "Python 3",
   "language": "python",
   "name": "python3"
  },
  "language_info": {
   "codemirror_mode": {
    "name": "ipython",
    "version": 3
   },
   "file_extension": ".py",
   "mimetype": "text/x-python",
   "name": "python",
   "nbconvert_exporter": "python",
   "pygments_lexer": "ipython3",
   "version": "3.7.7"
  }
 },
 "nbformat": 4,
 "nbformat_minor": 4
}
